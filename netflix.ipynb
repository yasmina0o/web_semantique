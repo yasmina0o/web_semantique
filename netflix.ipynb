{
 "cells": [
  {
   "cell_type": "code",
   "execution_count": 15,
   "metadata": {},
   "outputs": [
    {
     "name": "stdout",
     "output_type": "stream",
     "text": [
      "Requirement already satisfied: pandas in c:\\users\\yasmi\\appdata\\local\\programs\\python\\python312\\lib\\site-packages (2.2.1)Note: you may need to restart the kernel to use updated packages.\n"
     ]
    },
    {
     "name": "stderr",
     "output_type": "stream",
     "text": [
      "\n",
      "[notice] A new release of pip is available: 23.2.1 -> 24.2\n",
      "[notice] To update, run: python.exe -m pip install --upgrade pip\n"
     ]
    },
    {
     "name": "stdout",
     "output_type": "stream",
     "text": [
      "\n",
      "Requirement already satisfied: numpy<2,>=1.26.0 in c:\\users\\yasmi\\appdata\\local\\programs\\python\\python312\\lib\\site-packages (from pandas) (1.26.4)\n",
      "Requirement already satisfied: python-dateutil>=2.8.2 in c:\\users\\yasmi\\appdata\\local\\programs\\python\\python312\\lib\\site-packages (from pandas) (2.9.0.post0)\n",
      "Requirement already satisfied: pytz>=2020.1 in c:\\users\\yasmi\\appdata\\local\\programs\\python\\python312\\lib\\site-packages (from pandas) (2024.1)\n",
      "Requirement already satisfied: tzdata>=2022.7 in c:\\users\\yasmi\\appdata\\local\\programs\\python\\python312\\lib\\site-packages (from pandas) (2024.1)\n",
      "Requirement already satisfied: six>=1.5 in c:\\users\\yasmi\\appdata\\local\\programs\\python\\python312\\lib\\site-packages (from python-dateutil>=2.8.2->pandas) (1.16.0)\n"
     ]
    }
   ],
   "source": [
    "pip install pandas"
   ]
  },
  {
   "cell_type": "code",
   "execution_count": 16,
   "metadata": {},
   "outputs": [],
   "source": [
    "import pandas as pd\n",
    "\n",
    "#  le chemin vers  fichier CSV\n",
    "csv_file = r\"C:\\Users\\yasmi\\OneDrive\\Master_vico\\web_smantique\\projet\\netflix_titles\\netflix_titles.csv\"\n",
    "\n",
    "df = pd.read_csv(csv_file)\n",
    "\n"
   ]
  },
  {
   "cell_type": "code",
   "execution_count": 17,
   "metadata": {},
   "outputs": [
    {
     "data": {
      "text/html": [
       "<div>\n",
       "<style scoped>\n",
       "    .dataframe tbody tr th:only-of-type {\n",
       "        vertical-align: middle;\n",
       "    }\n",
       "\n",
       "    .dataframe tbody tr th {\n",
       "        vertical-align: top;\n",
       "    }\n",
       "\n",
       "    .dataframe thead th {\n",
       "        text-align: right;\n",
       "    }\n",
       "</style>\n",
       "<table border=\"1\" class=\"dataframe\">\n",
       "  <thead>\n",
       "    <tr style=\"text-align: right;\">\n",
       "      <th></th>\n",
       "      <th>show_id</th>\n",
       "      <th>type</th>\n",
       "      <th>title</th>\n",
       "      <th>director</th>\n",
       "      <th>cast</th>\n",
       "      <th>country</th>\n",
       "      <th>date_added</th>\n",
       "      <th>release_year</th>\n",
       "      <th>rating</th>\n",
       "      <th>duration</th>\n",
       "      <th>listed_in</th>\n",
       "      <th>description</th>\n",
       "    </tr>\n",
       "  </thead>\n",
       "  <tbody>\n",
       "    <tr>\n",
       "      <th>0</th>\n",
       "      <td>s1</td>\n",
       "      <td>Movie</td>\n",
       "      <td>Dick Johnson Is Dead</td>\n",
       "      <td>Kirsten Johnson</td>\n",
       "      <td>NaN</td>\n",
       "      <td>United States</td>\n",
       "      <td>September 25, 2021</td>\n",
       "      <td>2020</td>\n",
       "      <td>PG-13</td>\n",
       "      <td>90 min</td>\n",
       "      <td>Documentaries</td>\n",
       "      <td>As her father nears the end of his life, filmm...</td>\n",
       "    </tr>\n",
       "    <tr>\n",
       "      <th>1</th>\n",
       "      <td>s2</td>\n",
       "      <td>TV Show</td>\n",
       "      <td>Blood &amp; Water</td>\n",
       "      <td>NaN</td>\n",
       "      <td>Ama Qamata, Khosi Ngema, Gail Mabalane, Thaban...</td>\n",
       "      <td>South Africa</td>\n",
       "      <td>September 24, 2021</td>\n",
       "      <td>2021</td>\n",
       "      <td>TV-MA</td>\n",
       "      <td>2 Seasons</td>\n",
       "      <td>International TV Shows, TV Dramas, TV Mysteries</td>\n",
       "      <td>After crossing paths at a party, a Cape Town t...</td>\n",
       "    </tr>\n",
       "    <tr>\n",
       "      <th>2</th>\n",
       "      <td>s3</td>\n",
       "      <td>TV Show</td>\n",
       "      <td>Ganglands</td>\n",
       "      <td>Julien Leclercq</td>\n",
       "      <td>Sami Bouajila, Tracy Gotoas, Samuel Jouy, Nabi...</td>\n",
       "      <td>NaN</td>\n",
       "      <td>September 24, 2021</td>\n",
       "      <td>2021</td>\n",
       "      <td>TV-MA</td>\n",
       "      <td>1 Season</td>\n",
       "      <td>Crime TV Shows, International TV Shows, TV Act...</td>\n",
       "      <td>To protect his family from a powerful drug lor...</td>\n",
       "    </tr>\n",
       "    <tr>\n",
       "      <th>3</th>\n",
       "      <td>s4</td>\n",
       "      <td>TV Show</td>\n",
       "      <td>Jailbirds New Orleans</td>\n",
       "      <td>NaN</td>\n",
       "      <td>NaN</td>\n",
       "      <td>NaN</td>\n",
       "      <td>September 24, 2021</td>\n",
       "      <td>2021</td>\n",
       "      <td>TV-MA</td>\n",
       "      <td>1 Season</td>\n",
       "      <td>Docuseries, Reality TV</td>\n",
       "      <td>Feuds, flirtations and toilet talk go down amo...</td>\n",
       "    </tr>\n",
       "    <tr>\n",
       "      <th>4</th>\n",
       "      <td>s5</td>\n",
       "      <td>TV Show</td>\n",
       "      <td>Kota Factory</td>\n",
       "      <td>NaN</td>\n",
       "      <td>Mayur More, Jitendra Kumar, Ranjan Raj, Alam K...</td>\n",
       "      <td>India</td>\n",
       "      <td>September 24, 2021</td>\n",
       "      <td>2021</td>\n",
       "      <td>TV-MA</td>\n",
       "      <td>2 Seasons</td>\n",
       "      <td>International TV Shows, Romantic TV Shows, TV ...</td>\n",
       "      <td>In a city of coaching centers known to train I...</td>\n",
       "    </tr>\n",
       "  </tbody>\n",
       "</table>\n",
       "</div>"
      ],
      "text/plain": [
       "  show_id     type                  title         director  \\\n",
       "0      s1    Movie   Dick Johnson Is Dead  Kirsten Johnson   \n",
       "1      s2  TV Show          Blood & Water              NaN   \n",
       "2      s3  TV Show              Ganglands  Julien Leclercq   \n",
       "3      s4  TV Show  Jailbirds New Orleans              NaN   \n",
       "4      s5  TV Show           Kota Factory              NaN   \n",
       "\n",
       "                                                cast        country  \\\n",
       "0                                                NaN  United States   \n",
       "1  Ama Qamata, Khosi Ngema, Gail Mabalane, Thaban...   South Africa   \n",
       "2  Sami Bouajila, Tracy Gotoas, Samuel Jouy, Nabi...            NaN   \n",
       "3                                                NaN            NaN   \n",
       "4  Mayur More, Jitendra Kumar, Ranjan Raj, Alam K...          India   \n",
       "\n",
       "           date_added  release_year rating   duration  \\\n",
       "0  September 25, 2021          2020  PG-13     90 min   \n",
       "1  September 24, 2021          2021  TV-MA  2 Seasons   \n",
       "2  September 24, 2021          2021  TV-MA   1 Season   \n",
       "3  September 24, 2021          2021  TV-MA   1 Season   \n",
       "4  September 24, 2021          2021  TV-MA  2 Seasons   \n",
       "\n",
       "                                           listed_in  \\\n",
       "0                                      Documentaries   \n",
       "1    International TV Shows, TV Dramas, TV Mysteries   \n",
       "2  Crime TV Shows, International TV Shows, TV Act...   \n",
       "3                             Docuseries, Reality TV   \n",
       "4  International TV Shows, Romantic TV Shows, TV ...   \n",
       "\n",
       "                                         description  \n",
       "0  As her father nears the end of his life, filmm...  \n",
       "1  After crossing paths at a party, a Cape Town t...  \n",
       "2  To protect his family from a powerful drug lor...  \n",
       "3  Feuds, flirtations and toilet talk go down amo...  \n",
       "4  In a city of coaching centers known to train I...  "
      ]
     },
     "metadata": {},
     "output_type": "display_data"
    }
   ],
   "source": [
    "from IPython.display import display  # Importer display pour un affichage en tableau\n",
    "\n",
    "display(df.head(5))\n"
   ]
  },
  {
   "cell_type": "code",
   "execution_count": 18,
   "metadata": {},
   "outputs": [
    {
     "name": "stdout",
     "output_type": "stream",
     "text": [
      "show_id = 0\n",
      "type = 0\n",
      "title = 0\n",
      "director = 2634\n",
      "cast = 825\n",
      "country = 831\n",
      "date_added = 10\n",
      "release_year = 0\n",
      "rating = 4\n",
      "duration = 3\n",
      "listed_in = 0\n",
      "description = 0\n"
     ]
    }
   ],
   "source": [
    "#  le nombre de NaN par colonne\n",
    "nan_count = df.isna().sum()\n",
    "\n",
    "\n",
    "for column, count in nan_count.items():\n",
    "    print(f\"{column} = {count}\")"
   ]
  },
  {
   "cell_type": "code",
   "execution_count": 19,
   "metadata": {},
   "outputs": [
    {
     "name": "stderr",
     "output_type": "stream",
     "text": [
      "C:\\Users\\yasmi\\AppData\\Local\\Temp\\ipykernel_14224\\2365383269.py:1: FutureWarning: A value is trying to be set on a copy of a DataFrame or Series through chained assignment using an inplace method.\n",
      "The behavior will change in pandas 3.0. This inplace method will never work because the intermediate object on which we are setting values always behaves as a copy.\n",
      "\n",
      "For example, when doing 'df[col].method(value, inplace=True)', try using 'df.method({col: value}, inplace=True)' or df[col] = df[col].method(value) instead, to perform the operation inplace on the original object.\n",
      "\n",
      "\n",
      "  df['director'].fillna(\"Unknown\", inplace=True)\n",
      "C:\\Users\\yasmi\\AppData\\Local\\Temp\\ipykernel_14224\\2365383269.py:2: FutureWarning: A value is trying to be set on a copy of a DataFrame or Series through chained assignment using an inplace method.\n",
      "The behavior will change in pandas 3.0. This inplace method will never work because the intermediate object on which we are setting values always behaves as a copy.\n",
      "\n",
      "For example, when doing 'df[col].method(value, inplace=True)', try using 'df.method({col: value}, inplace=True)' or df[col] = df[col].method(value) instead, to perform the operation inplace on the original object.\n",
      "\n",
      "\n",
      "  df['cast'].fillna(\"Unknown\", inplace=True)\n",
      "C:\\Users\\yasmi\\AppData\\Local\\Temp\\ipykernel_14224\\2365383269.py:3: FutureWarning: A value is trying to be set on a copy of a DataFrame or Series through chained assignment using an inplace method.\n",
      "The behavior will change in pandas 3.0. This inplace method will never work because the intermediate object on which we are setting values always behaves as a copy.\n",
      "\n",
      "For example, when doing 'df[col].method(value, inplace=True)', try using 'df.method({col: value}, inplace=True)' or df[col] = df[col].method(value) instead, to perform the operation inplace on the original object.\n",
      "\n",
      "\n",
      "  df['country'].fillna(\"Unknown\", inplace=True)\n",
      "C:\\Users\\yasmi\\AppData\\Local\\Temp\\ipykernel_14224\\2365383269.py:4: FutureWarning: A value is trying to be set on a copy of a DataFrame or Series through chained assignment using an inplace method.\n",
      "The behavior will change in pandas 3.0. This inplace method will never work because the intermediate object on which we are setting values always behaves as a copy.\n",
      "\n",
      "For example, when doing 'df[col].method(value, inplace=True)', try using 'df.method({col: value}, inplace=True)' or df[col] = df[col].method(value) instead, to perform the operation inplace on the original object.\n",
      "\n",
      "\n",
      "  df['rating'].fillna(\"Unknown\", inplace=True)\n",
      "C:\\Users\\yasmi\\AppData\\Local\\Temp\\ipykernel_14224\\2365383269.py:5: FutureWarning: A value is trying to be set on a copy of a DataFrame or Series through chained assignment using an inplace method.\n",
      "The behavior will change in pandas 3.0. This inplace method will never work because the intermediate object on which we are setting values always behaves as a copy.\n",
      "\n",
      "For example, when doing 'df[col].method(value, inplace=True)', try using 'df.method({col: value}, inplace=True)' or df[col] = df[col].method(value) instead, to perform the operation inplace on the original object.\n",
      "\n",
      "\n",
      "  df['duration'].fillna(\"Unknown\", inplace=True)\n"
     ]
    }
   ],
   "source": [
    "df['director'].fillna(\"Unknown\", inplace=True)\n",
    "df['cast'].fillna(\"Unknown\", inplace=True)\n",
    "df['country'].fillna(\"Unknown\", inplace=True)\n",
    "df['rating'].fillna(\"Unknown\", inplace=True)\n",
    "df['duration'].fillna(\"Unknown\", inplace=True)\n"
   ]
  },
  {
   "cell_type": "code",
   "execution_count": 20,
   "metadata": {},
   "outputs": [],
   "source": [
    "df.dropna(subset=['date_added'], inplace=True)\n"
   ]
  },
  {
   "cell_type": "code",
   "execution_count": 21,
   "metadata": {},
   "outputs": [
    {
     "name": "stdout",
     "output_type": "stream",
     "text": [
      "show_id = 0\n",
      "type = 0\n",
      "title = 0\n",
      "director = 0\n",
      "cast = 0\n",
      "country = 0\n",
      "date_added = 0\n",
      "release_year = 0\n",
      "rating = 0\n",
      "duration = 0\n",
      "listed_in = 0\n",
      "description = 0\n"
     ]
    }
   ],
   "source": [
    "nan_count = df.isna().sum()\n",
    "\n",
    "for column, count in nan_count.items():\n",
    "    print(f\"{column} = {count}\")"
   ]
  },
  {
   "cell_type": "code",
   "execution_count": 22,
   "metadata": {},
   "outputs": [
    {
     "name": "stdout",
     "output_type": "stream",
     "text": [
      "Empty DataFrame\n",
      "Columns: [show_id, type, title, director, cast, country, date_added, release_year, rating, duration, listed_in, description]\n",
      "Index: []\n",
      "Nombre total de doublons : 0\n"
     ]
    }
   ],
   "source": [
    "# Identifier les doublons \n",
    "duplicates = df[df.duplicated()]\n",
    "\n",
    "# Afficher les doublons\n",
    "print(duplicates)\n",
    "\n",
    "# Afficher le nombre total de doublons\n",
    "print(f\"Nombre total de doublons : {duplicates.shape[0]}\")"
   ]
  },
  {
   "cell_type": "code",
   "execution_count": 23,
   "metadata": {},
   "outputs": [
    {
     "name": "stdout",
     "output_type": "stream",
     "text": [
      "show_id         object\n",
      "type            object\n",
      "title           object\n",
      "director        object\n",
      "cast            object\n",
      "country         object\n",
      "date_added      object\n",
      "release_year     int64\n",
      "rating          object\n",
      "duration        object\n",
      "listed_in       object\n",
      "description     object\n",
      "dtype: object\n"
     ]
    }
   ],
   "source": [
    "# Afficher le type de chaque colonne\n",
    "print(df.dtypes)"
   ]
  },
  {
   "cell_type": "code",
   "execution_count": 24,
   "metadata": {},
   "outputs": [],
   "source": [
    "df['date_added'] = pd.to_datetime(df['date_added'], errors='coerce')\n"
   ]
  },
  {
   "cell_type": "code",
   "execution_count": 25,
   "metadata": {},
   "outputs": [
    {
     "data": {
      "text/html": [
       "<div>\n",
       "<style scoped>\n",
       "    .dataframe tbody tr th:only-of-type {\n",
       "        vertical-align: middle;\n",
       "    }\n",
       "\n",
       "    .dataframe tbody tr th {\n",
       "        vertical-align: top;\n",
       "    }\n",
       "\n",
       "    .dataframe thead th {\n",
       "        text-align: right;\n",
       "    }\n",
       "</style>\n",
       "<table border=\"1\" class=\"dataframe\">\n",
       "  <thead>\n",
       "    <tr style=\"text-align: right;\">\n",
       "      <th></th>\n",
       "      <th>show_id</th>\n",
       "      <th>type</th>\n",
       "      <th>title</th>\n",
       "      <th>director</th>\n",
       "      <th>cast</th>\n",
       "      <th>country</th>\n",
       "      <th>date_added</th>\n",
       "      <th>release_year</th>\n",
       "      <th>rating</th>\n",
       "      <th>duration</th>\n",
       "      <th>listed_in</th>\n",
       "      <th>description</th>\n",
       "    </tr>\n",
       "  </thead>\n",
       "  <tbody>\n",
       "    <tr>\n",
       "      <th>0</th>\n",
       "      <td>s1</td>\n",
       "      <td>Movie</td>\n",
       "      <td>Dick Johnson Is Dead</td>\n",
       "      <td>Kirsten Johnson</td>\n",
       "      <td>Unknown</td>\n",
       "      <td>United States</td>\n",
       "      <td>2021-09-25</td>\n",
       "      <td>2020</td>\n",
       "      <td>PG-13</td>\n",
       "      <td>90 min</td>\n",
       "      <td>Documentaries</td>\n",
       "      <td>As her father nears the end of his life, filmm...</td>\n",
       "    </tr>\n",
       "    <tr>\n",
       "      <th>1</th>\n",
       "      <td>s2</td>\n",
       "      <td>TV Show</td>\n",
       "      <td>Blood &amp; Water</td>\n",
       "      <td>Unknown</td>\n",
       "      <td>Ama Qamata, Khosi Ngema, Gail Mabalane, Thaban...</td>\n",
       "      <td>South Africa</td>\n",
       "      <td>2021-09-24</td>\n",
       "      <td>2021</td>\n",
       "      <td>TV-MA</td>\n",
       "      <td>2 Seasons</td>\n",
       "      <td>International TV Shows, TV Dramas, TV Mysteries</td>\n",
       "      <td>After crossing paths at a party, a Cape Town t...</td>\n",
       "    </tr>\n",
       "  </tbody>\n",
       "</table>\n",
       "</div>"
      ],
      "text/plain": [
       "  show_id     type                 title         director  \\\n",
       "0      s1    Movie  Dick Johnson Is Dead  Kirsten Johnson   \n",
       "1      s2  TV Show         Blood & Water          Unknown   \n",
       "\n",
       "                                                cast        country  \\\n",
       "0                                            Unknown  United States   \n",
       "1  Ama Qamata, Khosi Ngema, Gail Mabalane, Thaban...   South Africa   \n",
       "\n",
       "  date_added  release_year rating   duration  \\\n",
       "0 2021-09-25          2020  PG-13     90 min   \n",
       "1 2021-09-24          2021  TV-MA  2 Seasons   \n",
       "\n",
       "                                         listed_in  \\\n",
       "0                                    Documentaries   \n",
       "1  International TV Shows, TV Dramas, TV Mysteries   \n",
       "\n",
       "                                         description  \n",
       "0  As her father nears the end of his life, filmm...  \n",
       "1  After crossing paths at a party, a Cape Town t...  "
      ]
     },
     "metadata": {},
     "output_type": "display_data"
    }
   ],
   "source": [
    "display(df.head(2))\n"
   ]
  },
  {
   "cell_type": "code",
   "execution_count": 26,
   "metadata": {},
   "outputs": [
    {
     "name": "stdout",
     "output_type": "stream",
     "text": [
      "Types de rating dans le dataset :\n",
      "['PG-13' 'TV-MA' 'PG' 'TV-14' 'TV-PG' 'TV-Y' 'TV-Y7' 'R' 'TV-G' 'G'\n",
      " 'NC-17' '74 min' '84 min' '66 min' 'NR' 'Unknown' 'TV-Y7-FV' 'UR']\n"
     ]
    }
   ],
   "source": [
    "# différents types de ratings dans le dataset\n",
    "print(\"Types de rating dans le dataset :\")\n",
    "print(df['rating'].unique())"
   ]
  },
  {
   "cell_type": "code",
   "execution_count": 27,
   "metadata": {},
   "outputs": [
    {
     "name": "stdout",
     "output_type": "stream",
     "text": [
      "\n",
      "Types de rating après nettoyage :\n",
      "['PG-13' 'TV-MA' 'PG' 'TV-14' 'TV-PG' 'TV-Y' 'TV-Y7' 'R' 'TV-G' 'G'\n",
      " 'NC-17' 'NR' 'Unknown' 'TV-Y7-FV' 'UR']\n"
     ]
    }
   ],
   "source": [
    "invalid_ratings = ['74 min', '84 min', '66 min']\n",
    "\n",
    "# Supprimer les lignes où le rating est dans les valeurs incorrectes\n",
    "df_cleaned = df[~df['rating'].isin(invalid_ratings)]  \n",
    "\n",
    "# Vérifier que les lignes ont été supprimées\n",
    "print(\"\\nTypes de rating après nettoyage :\")\n",
    "print(df_cleaned['rating'].unique())"
   ]
  },
  {
   "cell_type": "code",
   "execution_count": 28,
   "metadata": {},
   "outputs": [
    {
     "name": "stdout",
     "output_type": "stream",
     "text": [
      "['Unknown'\n",
      " 'Ama Qamata, Khosi Ngema, Gail Mabalane, Thabang Molaba, Dillon Windvogel, Natasha Thahane, Arno Greeff, Xolile Tshabalala, Getmore Sithole, Cindy Mahlangu, Ryle De Morny, Greteli Fincham, Sello Maake Ka-Ncube, Odwa Gwanya, Mekaila Mathys, Sandi Schultz, Duane Williams, Shamilla Miller, Patrick Mofokeng'\n",
      " 'Sami Bouajila, Tracy Gotoas, Samuel Jouy, Nabiha Akkari, Sofia Lesaffre, Salim Kechiouche, Noureddine Farihi, Geert Van Rampelberg, Bakary Diombera'\n",
      " ...\n",
      " 'Jesse Eisenberg, Woody Harrelson, Emma Stone, Abigail Breslin, Amber Heard, Bill Murray, Derek Graf'\n",
      " 'Tim Allen, Courteney Cox, Chevy Chase, Kate Mara, Ryan Newman, Michael Cassidy, Spencer Breslin, Rip Torn, Kevin Zegers'\n",
      " 'Vicky Kaushal, Sarah-Jane Dias, Raaghav Chanana, Manish Chaudhary, Meghna Malik, Malkeet Rauni, Anita Shabdish, Chittaranjan Tripathy']\n"
     ]
    }
   ],
   "source": [
    "print(df['cast'].unique())"
   ]
  },
  {
   "cell_type": "code",
   "execution_count": 29,
   "metadata": {},
   "outputs": [
    {
     "name": "stdout",
     "output_type": "stream",
     "text": [
      "\n",
      "Types de rating après nettoyage :\n",
      "['Parents Strongly Cautioned (13+)' 'Mature Audience Only (17+)'\n",
      " 'Parental Guidance Suggested' 'Parents Strongly Cautioned (14+)'\n",
      " 'Parental Guidance (Some Content May Not Be Suitable)'\n",
      " 'All Children (Young Kids)' 'Older Children (7+)' 'Restricted (17+)'\n",
      " 'General Audience' 'General Audiences (All Ages)' 'Adults Only (17+)'\n",
      " 'Not Rated' 'Older Children Fantasy Violence']\n"
     ]
    },
    {
     "name": "stderr",
     "output_type": "stream",
     "text": [
      "C:\\Users\\yasmi\\AppData\\Local\\Temp\\ipykernel_14224\\1611669956.py:21: SettingWithCopyWarning: \n",
      "A value is trying to be set on a copy of a slice from a DataFrame.\n",
      "Try using .loc[row_indexer,col_indexer] = value instead\n",
      "\n",
      "See the caveats in the documentation: https://pandas.pydata.org/pandas-docs/stable/user_guide/indexing.html#returning-a-view-versus-a-copy\n",
      "  df_cleaned['rating'] = df_cleaned['rating'].map(rating_mapping)\n"
     ]
    }
   ],
   "source": [
    "# Créer un dictionnaire de mapping pour rendre les ratings plus compréhensibles\n",
    "rating_mapping = {\n",
    "    'PG-13': 'Parents Strongly Cautioned (13+)',\n",
    "    'TV-MA': 'Mature Audience Only (17+)',\n",
    "    'TV-14': 'Parents Strongly Cautioned (14+)',\n",
    "    'PG': 'Parental Guidance Suggested',\n",
    "    'R': 'Restricted (17+)',\n",
    "    'G': 'General Audiences (All Ages)',\n",
    "    'TV-Y': 'All Children (Young Kids)',\n",
    "    'TV-Y7': 'Older Children (7+)',\n",
    "    'TV-PG': 'Parental Guidance (Some Content May Not Be Suitable)',\n",
    "    'NR': 'Not Rated',\n",
    "    'NC-17': 'Adults Only (17+)',\n",
    "    'TV-G': 'General Audience',\n",
    "    'TV-Y7-FV': 'Older Children Fantasy Violence',\n",
    "    'UR': 'Not Rated',\n",
    "    'Unknown': 'Not Rated'  # Remplacer Unknown par Not Rated\n",
    "}\n",
    "\n",
    "# Remplacer les types de rating par des descriptions plus compréhensibles\n",
    "df_cleaned['rating'] = df_cleaned['rating'].map(rating_mapping)\n",
    "\n",
    "# Étape 5 : Vérifier le changement\n",
    "print(\"\\nTypes de rating après nettoyage :\")\n",
    "print(df_cleaned['rating'].unique())"
   ]
  },
  {
   "cell_type": "code",
   "execution_count": 30,
   "metadata": {},
   "outputs": [
    {
     "name": "stdout",
     "output_type": "stream",
     "text": [
      "show_id          0\n",
      "type             0\n",
      "title            0\n",
      "director         0\n",
      "cast             0\n",
      "country          0\n",
      "date_added      88\n",
      "release_year     0\n",
      "rating           0\n",
      "duration         0\n",
      "listed_in        0\n",
      "description      0\n",
      "dtype: int64\n"
     ]
    }
   ],
   "source": [
    "# Vérifier s'il reste des valeurs manquantes (NaN) dans chaque colonne\n",
    "print(df_cleaned.isnull().sum())"
   ]
  },
  {
   "cell_type": "code",
   "execution_count": 31,
   "metadata": {},
   "outputs": [
    {
     "name": "stdout",
     "output_type": "stream",
     "text": [
      "show_id                 object\n",
      "type                    object\n",
      "title                   object\n",
      "director                object\n",
      "cast                    object\n",
      "country                 object\n",
      "date_added      datetime64[ns]\n",
      "release_year             int64\n",
      "rating                  object\n",
      "duration                object\n",
      "listed_in               object\n",
      "description             object\n",
      "dtype: object\n"
     ]
    }
   ],
   "source": [
    "# Vérifier les types de données\n",
    "print(df_cleaned.dtypes)\n"
   ]
  },
  {
   "cell_type": "code",
   "execution_count": 32,
   "metadata": {},
   "outputs": [
    {
     "name": "stdout",
     "output_type": "stream",
     "text": [
      "datetime64[ns]\n"
     ]
    }
   ],
   "source": [
    "\n",
    "\n",
    "# Supprimer les lignes où 'date_added' contient des NaN\n",
    "df_cleaned = df.dropna(subset=['date_added'])\n",
    "\n",
    "\n",
    "print(df_cleaned['date_added'].dtypes)  # Vérifier que c'est bien du type datetime\n"
   ]
  },
  {
   "cell_type": "code",
   "execution_count": 33,
   "metadata": {},
   "outputs": [
    {
     "name": "stdout",
     "output_type": "stream",
     "text": [
      "show_id         0\n",
      "type            0\n",
      "title           0\n",
      "director        0\n",
      "cast            0\n",
      "country         0\n",
      "date_added      0\n",
      "release_year    0\n",
      "rating          0\n",
      "duration        0\n",
      "listed_in       0\n",
      "description     0\n",
      "dtype: int64\n"
     ]
    }
   ],
   "source": [
    "# Vérifier s'il reste des valeurs manquantes (NaN) dans chaque colonne\n",
    "print(df_cleaned.isnull().sum())"
   ]
  },
  {
   "cell_type": "code",
   "execution_count": 34,
   "metadata": {},
   "outputs": [],
   "source": [
    "# Sauvegarder le DataFrame nettoyé dans un nouveau fichier CSV\n",
    "df_cleaned.to_csv(\"netflix_cleaned.csv\", index=False)\n"
   ]
  },
  {
   "cell_type": "code",
   "execution_count": 43,
   "metadata": {},
   "outputs": [
    {
     "name": "stdout",
     "output_type": "stream",
     "text": [
      "     show_id     type  title director  \\\n",
      "2767   s2768  TV Show  Ozark  Unknown   \n",
      "\n",
      "                                                   cast        country  \\\n",
      "2767  Jason Bateman, Sofia Hublitz, Laura Linney, Sk...  United States   \n",
      "\n",
      "     date_added  release_year rating   duration  \\\n",
      "2767 2020-03-27          2020  TV-MA  3 Seasons   \n",
      "\n",
      "                                    listed_in  \\\n",
      "2767  Crime TV Shows, TV Dramas, TV Thrillers   \n",
      "\n",
      "                                            description  \n",
      "2767  A financial adviser drags his family from Chic...  \n"
     ]
    }
   ],
   "source": [
    "# Exemple avec une recherche plus large\n",
    "acteur_recherche = \"Blitz\"  # Vous pouvez changer cela à votre convenance\n",
    "\n",
    "# Filtrer le DataFrame pour trouver les lignes contenant l'acteur\n",
    "lignes_acteur = df_cleaned[df_cleaned['cast'].str.contains(acteur_recherche, case=False, na=False)]\n",
    "\n",
    "# Afficher les lignes trouvées\n",
    "print(lignes_acteur)"
   ]
  },
  {
   "cell_type": "code",
   "execution_count": 36,
   "metadata": {},
   "outputs": [
    {
     "name": "stdout",
     "output_type": "stream",
     "text": [
      "Requirement already satisfied: rdflib in c:\\users\\yasmi\\appdata\\local\\programs\\python\\python312\\lib\\site-packages (7.0.0)\n",
      "Requirement already satisfied: isodate<0.7.0,>=0.6.0 in c:\\users\\yasmi\\appdata\\local\\programs\\python\\python312\\lib\\site-packages (from rdflib) (0.6.1)\n",
      "Requirement already satisfied: pyparsing<4,>=2.1.0 in c:\\users\\yasmi\\appdata\\local\\programs\\python\\python312\\lib\\site-packages (from rdflib) (3.1.2)\n",
      "Requirement already satisfied: six in c:\\users\\yasmi\\appdata\\local\\programs\\python\\python312\\lib\\site-packages (from isodate<0.7.0,>=0.6.0->rdflib) (1.16.0)\n",
      "Note: you may need to restart the kernel to use updated packages.\n"
     ]
    },
    {
     "name": "stderr",
     "output_type": "stream",
     "text": [
      "\n",
      "[notice] A new release of pip is available: 23.2.1 -> 24.2\n",
      "[notice] To update, run: python.exe -m pip install --upgrade pip\n"
     ]
    }
   ],
   "source": [
    "pip install rdflib\n"
   ]
  },
  {
   "cell_type": "code",
   "execution_count": 44,
   "metadata": {},
   "outputs": [
    {
     "name": "stdout",
     "output_type": "stream",
     "text": [
      "RDF sauvegardé dans le fichier : netflix_dataset.ttl\n"
     ]
    }
   ],
   "source": [
    "import pandas as pd\n",
    "from rdflib import Graph, URIRef, Literal, Namespace\n",
    "from rdflib.namespace import RDF, FOAF, DC\n",
    "from datetime import datetime\n",
    "from urllib.parse import quote\n",
    "\n",
    "# Charger le dataset nettoyé\n",
    "csv_file = r\"C:\\Users\\yasmi\\OneDrive\\Master_vico\\web_smantique\\projet\\netflix_cleaned.csv\"\n",
    "df = pd.read_csv(csv_file)\n",
    "\n",
    "# Créer un graphe RDF\n",
    "g = Graph()\n",
    "\n",
    "# Définir les namespaces (préfixes)\n",
    "NETFLIX = Namespace(\"http://example.org/netflix/\")\n",
    "SCHEMA = Namespace(\"https://schema.org/\")\n",
    "g.bind(\"foaf\", FOAF)\n",
    "g.bind(\"dct\", DC)\n",
    "g.bind(\"schema\", SCHEMA)\n",
    "\n",
    "# Fonction pour nettoyer le nom de l'acteur\n",
    "def clean_name(namep):\n",
    "    cleaned_name = namep.replace('\"', '').replace(\"'\", \"\").strip()\n",
    "    \n",
    "    cleaned_name = cleaned_name.replace(' ', '_').replace('-', '_')\n",
    "    \n",
    "    # Encoder les caractères spéciaux pour créer une URI valide\n",
    "    encoded_name = quote(cleaned_name)\n",
    "    \n",
    "    return encoded_name\n",
    "\n",
    "for index, row in df.iterrows():\n",
    "    show_id = row['show_id']\n",
    "\n",
    "    #  URI  pour chaque film ou série\n",
    "    show_uri = URIRef(f\"http://example.org/netflix/{show_id}\")\n",
    "    \n",
    "    # le type (Film ou Série)\n",
    "    if row['type'] == 'TV Show':\n",
    "        g.add((show_uri, RDF.type, SCHEMA.TVSeries))\n",
    "    else:\n",
    "        g.add((show_uri, RDF.type, SCHEMA.Movie))\n",
    "    \n",
    "    # Ajouter le titre\n",
    "    g.add((show_uri, DC.title, Literal(row['title'])))\n",
    "\n",
    "  # Ajouter le réalisateur si connu\n",
    "    if row['director'] != 'Unknown':\n",
    "        director_cleaned = clean_name(row['director'])  # Utiliser la fonction clean_name\n",
    "        if director_cleaned:  # S'assurer que le nom nettoyé n'est pas None\n",
    "            director_uri = URIRef(f\"http://example.org/person/{director_cleaned}\")\n",
    "            g.add((director_uri, RDF.type, FOAF.Person))\n",
    "            g.add((director_uri, FOAF.name, Literal(row['director'])))  # Conserver le nom original\n",
    "            g.add((show_uri, SCHEMA.director, director_uri))\n",
    "    # Ajouter le cast (liste d'acteurs)\n",
    "    if row['cast'] != 'Unknown':\n",
    "        # Séparer les noms d'acteurs par la virgule\n",
    "        actors = row['cast'].split(',')\n",
    "        \n",
    "        # Boucler sur chaque acteur et ajouter au graphe RDF\n",
    "        for actor in actors:\n",
    "            actor = actor.strip()  # Supprimer les espaces en trop autour des noms\n",
    "            \n",
    "            # Nettoyer le nom de l'acteur pour les guillemets et autres caractères spéciaux\n",
    "            actor_uri_safe = clean_name(actor)  # Utiliser la fonction de nettoyage\n",
    "            actor_uri = URIRef(f\"{NETFLIX}actor/{actor_uri_safe}\")\n",
    "            \n",
    "            # Ajouter un triple indiquant que ce show a cet acteur\n",
    "            g.add((show_uri, SCHEMA.actor, actor_uri))\n",
    "            \n",
    "            # Ajouter des informations sur l'acteur (par exemple, son nom)\n",
    "            g.add((actor_uri, FOAF.name, Literal(actor)))\n",
    "\n",
    "    # Ajouter le pays si connu\n",
    "    if row['country'] != 'Unknown':\n",
    "        g.add((show_uri, SCHEMA.countryOfOrigin, Literal(row['country'])))\n",
    "\n",
    "    # Ajouter la date d'ajout si connue\n",
    "    if row['date_added'] != 'Unknown':\n",
    "        date_added = datetime.strptime(row['date_added'], '%Y-%m-%d')\n",
    "        g.add((show_uri, DC.date, Literal(date_added)))\n",
    "    \n",
    "    # Ajouter l'année de sortie\n",
    "    g.add((show_uri, SCHEMA.datePublished, Literal(row['release_year'], datatype=SCHEMA.Integer)))\n",
    "\n",
    "    # Ajouter la note (rating)\n",
    "    if row['rating'] != 'Unknown':\n",
    "        g.add((show_uri, SCHEMA.contentRating, Literal(row['rating'])))\n",
    "    \n",
    "    # Ajouter la durée\n",
    "    g.add((show_uri, SCHEMA.duration, Literal(row['duration'])))\n",
    "    \n",
    "    # Ajouter le genre (listed_in)\n",
    "    genres = row['listed_in'].split(', ')\n",
    "    for genre in genres:\n",
    "        g.add((show_uri, SCHEMA.genre, Literal(genre)))\n",
    "\n",
    "    # Ajouter la description\n",
    "    g.add((show_uri, DC.description, Literal(row['description'])))\n",
    "\n",
    "# Sauvegarder le graphe RDF au format Turtle\n",
    "output_file = \"netflix_dataset.ttl\"\n",
    "g.serialize(destination=output_file, format=\"turtle\")\n",
    "\n",
    "print(f\"RDF sauvegardé dans le fichier : {output_file}\")\n"
   ]
  },
  {
   "cell_type": "code",
   "execution_count": null,
   "metadata": {},
   "outputs": [],
   "source": []
  }
 ],
 "metadata": {
  "kernelspec": {
   "display_name": "Python 3",
   "language": "python",
   "name": "python3"
  },
  "language_info": {
   "codemirror_mode": {
    "name": "ipython",
    "version": 3
   },
   "file_extension": ".py",
   "mimetype": "text/x-python",
   "name": "python",
   "nbconvert_exporter": "python",
   "pygments_lexer": "ipython3",
   "version": "3.12.1"
  }
 },
 "nbformat": 4,
 "nbformat_minor": 2
}
